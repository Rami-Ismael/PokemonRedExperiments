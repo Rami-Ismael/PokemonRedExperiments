{
 "cells": [
  {
   "cell_type": "code",
   "execution_count": 2,
   "metadata": {},
   "outputs": [
    {
     "name": "stderr",
     "output_type": "stream",
     "text": [
      "59912    pyboy.pyboy                    WARNING  The emulation speed might not be accurate when speed-target is higher than 5\n"
     ]
    }
   ],
   "source": [
    "from pyboy import PyBoy\n",
    "from pyboy.logger import log_level\n",
    "pyboy = PyBoy(\n",
    "    \"pokemon_red.gb\",\n",
    "    debugging=False,\n",
    "    disable_input=False,\n",
    "    window_type = \"SDL2\",\n",
    ")\n",
    "pyboy.botsupport_manager().screen()\n",
    "pyboy.set_emulation_speed(6)"
   ]
  }
 ],
 "metadata": {
  "kernelspec": {
   "display_name": "pokemon_red",
   "language": "python",
   "name": "python3"
  },
  "language_info": {
   "codemirror_mode": {
    "name": "ipython",
    "version": 3
   },
   "file_extension": ".py",
   "mimetype": "text/x-python",
   "name": "python",
   "nbconvert_exporter": "python",
   "pygments_lexer": "ipython3",
   "version": "3.10.13"
  }
 },
 "nbformat": 4,
 "nbformat_minor": 2
}
